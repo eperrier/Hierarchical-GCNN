{
 "cells": [
  {
   "cell_type": "code",
   "execution_count": null,
   "metadata": {},
   "outputs": [],
   "source": [
    "# %load runNewFeaturesSA1.py\n",
    "import ggcnn.experiment as experiment\n",
    "\n",
    "import numpy as np\n",
    "import sys\n",
    "import pandas as pd\n",
    "\n",
    "from sklearn.model_selection import KFold\n",
    "from sklearn.decomposition import PCA\n",
    "\n",
    "\n",
    "def load_dataset():\n",
    "    keys = []\n",
    "    features = []\n",
    "    labels = []\n",
    "\n",
    "    with open('Data/2018-08-24-NSW-SA1Input-Normalised.csv', 'r') as file:\n",
    "        for i, line in enumerate(file):\n",
    "            if i == 0:  # Skip first line (header)\n",
    "                continue\n",
    "            s = line[:-1].split(',')  # Last value in line is \\n\n",
    "            keys.append(s[0])\n",
    "            features.extend([float(v) for v in s[1:-1]])  # Last column is the outcome y\n",
    "#             labels.append(np.floor(float(s[-1]) / 10).astype(int))\n",
    "            labels.append(float(s[-1]))\n",
    "        labels = np.array(labels)\n",
    "        features = np.array(features).reshape((len(keys), -1))\n",
    "    \n",
    "    with open('Data/2018-08-25-NSW-NeighbourDistance.csv', 'r') as file:\n",
    "        adj_mat = np.zeros((len(labels), 1, len(labels)))\n",
    "        distance_mat = np.zeros((len(labels), len(labels)))\n",
    "        for i, line in enumerate(file):\n",
    "            if i == 0:  # Skip first line (header)\n",
    "                continue\n",
    "            s = line[:-1].split(',')\n",
    "            a = keys.index(s[0])\n",
    "            b = keys.index(s[1])\n",
    "            adj_mat[a, 0, b] = 1\n",
    "            adj_mat[b, 0, a] = 1\n",
    "            distance_mat[a, b] = float(s[2])\n",
    "            distance_mat[b, a] = float(s[2])\n",
    "\n",
    "    pca = PCA(n_components=0.7, svd_solver='full')\n",
    "    reduced_features = pca.fit_transform(features)\n",
    "    print(pca.explained_variance_ratio_)\n",
    "\n",
    "    return features, adj_mat, labels, reduced_features, distance_mat\n",
    "\n",
    "dataset = load_dataset()\n",
    "\n",
    "print(dataset[-2].shape)\n",
    "\n",
    "class SA1Experiment():\n",
    "    def __init__(self, neurons, blocks):\n",
    "        self.blocks = blocks\n",
    "        self.neurons = neurons\n",
    "    \n",
    "    def create_network(self, net, input):\n",
    "        net.create_network(input)\n",
    "#         net.make_adjacency_adjustment_layer()\n",
    "        net.make_embedding_layer(self.neurons)\n",
    "        net.make_dropout_layer()\n",
    "        \n",
    "        for _ in range(self.blocks):\n",
    "            net.make_graphcnn_layer(self.neurons)\n",
    "            net.make_dropout_layer()\n",
    "            net.make_embedding_layer(self.neurons)\n",
    "            net.make_dropout_layer()\n",
    "        \n",
    "        net.make_embedding_layer(self.neurons)\n",
    "        net.make_embedding_layer(1, name='final', with_bn=False, with_act_func = False)\n",
    "\n",
    "\n",
    "no_folds = 5\n",
    "inst = KFold(n_splits = no_folds, shuffle=True, random_state=125)\n",
    "\n",
    "l = 3\n",
    "n = 128\n",
    "i = 2\n",
    "\n",
    "    \n",
    "exp = experiment.GGCNNExperiment('2018-08-24-SA1', '2018-08-24-sa1', SA1Experiment(neurons = n, blocks = l))\n",
    "\n",
    "exp.num_iterations = 2000\n",
    "exp.optimizer = 'adam'\n",
    "exp.loss_type = 'linear'\n",
    "\n",
    "exp.debug = True  # Was True\n",
    "\n",
    "exp.preprocess_data(dataset)\n",
    "\n",
    "train_idx, test_idx = list(inst.split(np.arange(len(dataset[-1]))))[i]\n",
    "# test_idx, train_idx = list(inst.split(np.arange(len(dataset[-1]))))[i]  # Reversed to get more samples in the test set than the training set\n",
    "\n",
    "\n",
    "exp.create_data(train_idx, test_idx)\n",
    "exp.build_network()\n",
    "results = exp.run()\n"
   ]
  },
  {
   "cell_type": "raw",
   "metadata": {},
   "source": []
  },
  {
   "cell_type": "code",
   "execution_count": null,
   "metadata": {},
   "outputs": [],
   "source": [
    "results.sum(axis = 0)"
   ]
  },
  {
   "cell_type": "code",
   "execution_count": null,
   "metadata": {},
   "outputs": [],
   "source": [
    "dataset[1].sum(axis = 0)"
   ]
  },
  {
   "cell_type": "code",
   "execution_count": null,
   "metadata": {},
   "outputs": [],
   "source": [
    "np.min(results - dataset[1])"
   ]
  },
  {
   "cell_type": "code",
   "execution_count": null,
   "metadata": {},
   "outputs": [],
   "source": [
    "import matplotlib.pyplot as plt\n",
    "\n",
    "plt.hist(results.ravel() - dataset[1].ravel(), bins = 50)"
   ]
  },
  {
   "cell_type": "code",
   "execution_count": null,
   "metadata": {},
   "outputs": [],
   "source": []
  }
 ],
 "metadata": {
  "kernelspec": {
   "display_name": "Python 3",
   "language": "python",
   "name": "python3"
  },
  "language_info": {
   "codemirror_mode": {
    "name": "ipython",
    "version": 3
   },
   "file_extension": ".py",
   "mimetype": "text/x-python",
   "name": "python",
   "nbconvert_exporter": "python",
   "pygments_lexer": "ipython3",
   "version": "3.6.6"
  }
 },
 "nbformat": 4,
 "nbformat_minor": 2
}
